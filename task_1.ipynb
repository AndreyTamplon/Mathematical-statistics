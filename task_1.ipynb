{
  "nbformat": 4,
  "nbformat_minor": 0,
  "metadata": {
    "colab": {
      "name": "task_1.ipynb",
      "provenance": [],
      "collapsed_sections": [],
      "authorship_tag": "ABX9TyM0kohjQXsfkcmqZBEiToUa",
      "include_colab_link": true
    },
    "kernelspec": {
      "name": "python3",
      "display_name": "Python 3"
    },
    "language_info": {
      "name": "python"
    }
  },
  "cells": [
    {
      "cell_type": "markdown",
      "metadata": {
        "id": "view-in-github",
        "colab_type": "text"
      },
      "source": [
        "<a href=\"https://colab.research.google.com/github/AndreyTamplon/Mathematical-statistics/blob/main/task_1.ipynb\" target=\"_parent\"><img src=\"https://colab.research.google.com/assets/colab-badge.svg\" alt=\"Open In Colab\"/></a>"
      ]
    },
    {
      "cell_type": "code",
      "source": [
        "import math as m\n",
        "import numpy as np\n",
        "import statistics\n",
        "from scipy.stats import norm\n",
        "from scipy.stats.distributions import t, chi2\n",
        "sample = [-0.825, -0.980, -0.938, -1.039, -2.347, -1.579, -1.611, -0.246, -0.361, -0.844,\n",
        "          0.137, -2.105, -1.749, -2.035, 0.321, -0.454 , -1.803, -1.529, -1.421, -2.180,\n",
        "          -0.885, -1.500, -1.465, -1.846, -0.444, -0.137, -1.987, -1.989, -2.654, -1.424,\n",
        "          -1.537, -0.797, -0.993, -1.376, 0.248, -0.082, -0.171, -1.081, 0.469, -0.207,\n",
        "          -1.999, -0.901, 0.575, -1.895, 0.042, -1.197, -1.244, -1.162, -2.016, -1.246]\n",
        "sample = np.array(sample)\n",
        "sample_mean = sample.mean()\n",
        "alpha = -1\n",
        "sigma = m.sqrt(0.7)\n",
        "epsilon = 0.06\n",
        "n = sample.size\n",
        "S = m.sqrt(((sample - sample_mean)**2).mean())\n",
        "sample_mean\n",
        "print(S**2)"
      ],
      "metadata": {
        "id": "zkMuvjHvuo7r",
        "colab": {
          "base_uri": "https://localhost:8080/"
        },
        "outputId": "c7ebfb3f-f5e4-41ff-bb5b-1804d0697aba"
      },
      "execution_count": null,
      "outputs": [
        {
          "output_type": "stream",
          "name": "stdout",
          "text": [
            "0.6380450516\n"
          ]
        }
      ]
    },
    {
      "cell_type": "code",
      "source": [
        "def confidental_interval_a(epsilon):\n",
        "  q = -norm.ppf(epsilon / 2)\n",
        "  left_bound = sample_mean - q * sigma / m.sqrt(n)\n",
        "  right_bound = sample_mean + q * sigma / m.sqrt(n)\n",
        "  print(\"confidence interval of the level %f has bounds [%f, %f]\" % (1 - epsilon, left_bound, right_bound))"
      ],
      "metadata": {
        "id": "uGEr1wVfA0Br"
      },
      "execution_count": null,
      "outputs": []
    },
    {
      "cell_type": "code",
      "source": [
        "def confidental_interval_b(epsilon):\n",
        "  q = -t.ppf(epsilon/2, n - 1)\n",
        "  left_bound = sample_mean - q * S / m.sqrt(n - 1)\n",
        "  right_bound = sample_mean + q * S / m.sqrt(n - 1)\n",
        "  print(q)\n",
        "  print(\"confidence interval of the level %f has bounds [%f, %f]\" % (1 - epsilon, left_bound, right_bound))"
      ],
      "metadata": {
        "id": "VIGCzW7HR1FC"
      },
      "execution_count": null,
      "outputs": []
    },
    {
      "cell_type": "code",
      "source": [
        "def confidental_interval_c(epsilon):\n",
        "  q1 = chi2.ppf(epsilon / 2, n)\n",
        "  q2 = chi2.ppf(1 - epsilon / 2, n)\n",
        "  left_bound = sum(((sample - alpha)**2))/q2\n",
        "  right_bound = sum(((sample - alpha)**2))/q1\n",
        "  print(\"confidence interval of the level %f has bounds [%f, %f]\" % (1 - epsilon, left_bound, right_bound))"
      ],
      "metadata": {
        "id": "RkqIWRBcWLMt"
      },
      "execution_count": null,
      "outputs": []
    },
    {
      "cell_type": "code",
      "source": [
        "def confidental_interval_d(epsilon):\n",
        "  q1 = chi2.ppf(epsilon / 2, n - 1)\n",
        "  q2 = chi2.ppf(1 - epsilon / 2, n - 1)\n",
        "  left_bound = (n * S**2)/q2\n",
        "  right_bound = (n * S**2)/q1\n",
        "  print(\"confidence interval of the level %f has bounds [%f, %f]\" % (1 - epsilon, left_bound, right_bound))"
      ],
      "metadata": {
        "id": "iP8CnjxAX32R"
      },
      "execution_count": null,
      "outputs": []
    },
    {
      "cell_type": "markdown",
      "source": [
        "По числовой выборке № 15 объема 50 построить точные доверительные интервалы c уровнями доверия 0.99, 0.95 и 0.9, считая, что выборка взята из нормального\n",
        "распределения с параметрами $α$ и $σ^2$"
      ],
      "metadata": {
        "id": "ys-YPvTrecif"
      }
    },
    {
      "cell_type": "markdown",
      "source": [
        "Квантиль – это аргумент функции распределения, которой соответствует заданная\n",
        "вероятность $p$. Функция norm.ppf - функция квантилей (Quantile function).\n",
        "$Q(p) = inf{\\{x\\inℜ:p≤F(x)\\}}$\n"
      ],
      "metadata": {
        "id": "xdTcGWAnrXdW"
      }
    },
    {
      "cell_type": "markdown",
      "source": [
        "# a) **Доверительный интервал для $α$ при условии, что $σ^2$ известно**"
      ],
      "metadata": {
        "id": "CTt1PxS-qBmY"
      }
    },
    {
      "cell_type": "markdown",
      "source": [
        "В лекциях была получена следующая формула для этого случая:\n",
        "\n",
        "$P(\\bar{X}-\\frac{qσ}{\\sqrt{n}}<α<\\bar{X}+\\frac{qσ}{\\sqrt{n}})=1-ɛ$\n",
        "\n",
        "Где $q$ получается из равенства $𝜱_{0,1}(-q)=\\frac{ɛ}{2}$"
      ],
      "metadata": {
        "id": "M6kxoly48OZo"
      }
    },
    {
      "cell_type": "code",
      "source": [
        "confidental_interval_a(0.01)\n",
        "confidental_interval_a(0.05)\n",
        "confidental_interval_a(0.1)"
      ],
      "metadata": {
        "colab": {
          "base_uri": "https://localhost:8080/"
        },
        "id": "ikkq89-v-7LY",
        "outputId": "82c66007-bf5b-416f-b44d-8ad49760f89a"
      },
      "execution_count": null,
      "outputs": [
        {
          "output_type": "stream",
          "name": "stdout",
          "text": [
            "confidence interval of the level 0.990000 has bounds [-1.394556, -0.785004]\n",
            "confidence interval of the level 0.950000 has bounds [-1.321686, -0.857874]\n",
            "confidence interval of the level 0.900000 has bounds [-1.284402, -0.895158]\n"
          ]
        }
      ]
    },
    {
      "cell_type": "markdown",
      "source": [
        "#б) **Доверительный интервал для $α$ при условии, что $σ^2$ неизвестно**"
      ],
      "metadata": {
        "id": "jXo2jQabCPT5"
      }
    },
    {
      "cell_type": "markdown",
      "source": [
        "В лекциях была получена следующая формула для этого случая:\n",
        "\n",
        "$P(\\bar{X}-\\frac{qS}{\\sqrt{n-1}}<α<\\bar{X}+\\frac{qS}{\\sqrt{n-1}})=1-ɛ$\n",
        "\n",
        "Где $q$ получается из равенства $Τ_{n-1}(-q)=\\frac{ɛ}{2}$\n",
        "\n",
        "А $S=\\frac{1}{n}\\sum_{i=0}^n{X_{i}^{2}}-\\bar{X}^2$ - *выборочная дисперсия*"
      ],
      "metadata": {
        "id": "RS6Jsfe0CeQ_"
      }
    },
    {
      "cell_type": "code",
      "source": [
        "confidental_interval_b(0.01)\n",
        "confidental_interval_b(0.05)\n",
        "confidental_interval_b(0.1)"
      ],
      "metadata": {
        "colab": {
          "base_uri": "https://localhost:8080/"
        },
        "id": "KyYzrK7RE2bG",
        "outputId": "17d45e29-0363-4b9b-a8bf-a845998001dc"
      },
      "execution_count": null,
      "outputs": [
        {
          "output_type": "stream",
          "name": "stdout",
          "text": [
            "2.6799519736315505\n",
            "confidence interval of the level 0.990000 has bounds [-1.395592, -0.783968]\n",
            "2.0095752344892093\n",
            "confidence interval of the level 0.950000 has bounds [-1.319095, -0.860465]\n",
            "1.6765508919142635\n",
            "confidence interval of the level 0.900000 has bounds [-1.281093, -0.898467]\n"
          ]
        }
      ]
    },
    {
      "cell_type": "markdown",
      "source": [
        "#в) **Доверительный интервал для $σ^2$ при условии, что $α$ известно**"
      ],
      "metadata": {
        "id": "aaghb_3rSBbe"
      }
    },
    {
      "cell_type": "markdown",
      "source": [
        "В лекциях была получена следующая формула для этого случая:\n",
        "\n",
        "$P(\\frac{\\sum_{i=1}^n{(X_{i}-α)^2}}{q_{2}}<σ^2<\\frac{\\sum_{i=1}^n{(X_{i}-α)^2}}{q_{1}})=1-ɛ$\n",
        "\n",
        "Где $q_{1}$ получается из равенства $\\chi_{n}^2(q_{1})=\\frac{ɛ}{2}$\n",
        "\n",
        "А $q_{2}$ из равенства $\\chi_{n}^2(q_{2})=1-\\frac{ɛ}{2}$"
      ],
      "metadata": {
        "id": "wE5_wf_zTEr9"
      }
    },
    {
      "cell_type": "code",
      "source": [
        "confidental_interval_c(0.01)\n",
        "confidental_interval_c(0.05)\n",
        "confidental_interval_c(0.1)"
      ],
      "metadata": {
        "colab": {
          "base_uri": "https://localhost:8080/"
        },
        "id": "jCSV8CiaUp1Y",
        "outputId": "c7f2db67-c9ab-42d5-bbb9-dff52801a698"
      },
      "execution_count": null,
      "outputs": [
        {
          "output_type": "stream",
          "name": "stdout",
          "text": [
            "confidence interval of the level 0.990000 has bounds [0.406407, 1.154141]\n",
            "confidence interval of the level 0.950000 has bounds [0.452327, 0.998390]\n",
            "confidence interval of the level 0.900000 has bounds [0.478563, 0.929267]\n"
          ]
        }
      ]
    },
    {
      "cell_type": "markdown",
      "source": [
        " # г) **Доверительный интервал для $σ^2$ при условии, что $α$ неизвестно**"
      ],
      "metadata": {
        "id": "p9LHa11MWvdB"
      }
    },
    {
      "cell_type": "markdown",
      "source": [
        "В лекциях была получена следующая формула для этого случая:\n",
        "\n",
        "$P(\\frac{nS^2}{q_{2}}<σ^2<\\frac{nS^2}{q_{1}})=1-ɛ$\n",
        "\n",
        "Где $q_{1}$ получается из равенства $\\chi_{n-1}^2(q_{1})=\\frac{ɛ}{2}$\n",
        "\n",
        "А $q_{2}$ из равенства $\\chi_{n-1}^2(q_{2})=1-\\frac{ɛ}{2}$"
      ],
      "metadata": {
        "id": "KR1UhwoXXGaZ"
      }
    },
    {
      "cell_type": "code",
      "source": [
        "confidental_interval_d(0.01)\n",
        "confidental_interval_d(0.05)\n",
        "confidental_interval_d(0.1)"
      ],
      "metadata": {
        "colab": {
          "base_uri": "https://localhost:8080/"
        },
        "id": "Ar-ZFp1PXoLO",
        "outputId": "d4cb5e9a-f9d4-471d-963c-ee665933b05e"
      },
      "execution_count": null,
      "outputs": [
        {
          "output_type": "stream",
          "name": "stdout",
          "text": [
            "confidence interval of the level 0.990000 has bounds [0.407797, 1.170753]\n",
            "confidence interval of the level 0.950000 has bounds [0.454303, 1.011007]\n",
            "confidence interval of the level 0.900000 has bounds [0.480900, 0.940229]\n"
          ]
        }
      ]
    }
  ]
}