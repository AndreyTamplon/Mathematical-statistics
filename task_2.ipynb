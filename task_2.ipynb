{
  "nbformat": 4,
  "nbformat_minor": 0,
  "metadata": {
    "colab": {
      "name": "task_2.ipynb",
      "provenance": [],
      "collapsed_sections": [],
      "authorship_tag": "ABX9TyON8qtNK0XkeE4PTQB00KYy",
      "include_colab_link": true
    },
    "kernelspec": {
      "name": "python3",
      "display_name": "Python 3"
    },
    "language_info": {
      "name": "python"
    }
  },
  "cells": [
    {
      "cell_type": "markdown",
      "metadata": {
        "id": "view-in-github",
        "colab_type": "text"
      },
      "source": [
        "<a href=\"https://colab.research.google.com/github/AndreyTamplon/Mathematical-statistics/blob/main/task_2.ipynb\" target=\"_parent\"><img src=\"https://colab.research.google.com/assets/colab-badge.svg\" alt=\"Open In Colab\"/></a>"
      ]
    },
    {
      "cell_type": "code",
      "execution_count": null,
      "metadata": {
        "id": "vD8A1S1CfNFn"
      },
      "outputs": [],
      "source": [
        "import numpy as np\n",
        "import math as m\n",
        "import matplotlib.pyplot as plt\n",
        "from scipy.stats import kstwobign\n",
        "from bisect import bisect_left, bisect_right\n",
        "from scipy.stats.distributions import chi2\n",
        "sample = [0.494, 0.577, 0.193, 0.696, 0.749, 0.038, 0.611, 0.233, 0.144, 0.925,\n",
        "          0.279, 0.225, 0.704, 0.506, 0.043, 0.141, 0.785, 0.403, 0.972, 0.877, \n",
        "          0.311, 0.210, 0.636, 0.043, 0.887, 0.488, 0.272, 0.742, 0.395, 0.187]\n",
        "n = len(sample)"
      ]
    },
    {
      "cell_type": "code",
      "source": [
        "def empirical_distribution_function(t):\n",
        "  number_of_elements_less_than_t = 0\n",
        "  for element in sample:\n",
        "    if element < t:\n",
        "      number_of_elements_less_than_t += 1\n",
        "  return number_of_elements_less_than_t / n\n",
        "def distribution_function(t):\n",
        "  if t < 0:\n",
        "    return 0\n",
        "  if t > 1:\n",
        "    return 1 \n",
        "  return t"
      ],
      "metadata": {
        "id": "RbKkWJ9AhcWK"
      },
      "execution_count": null,
      "outputs": []
    },
    {
      "cell_type": "code",
      "source": [
        "def empirical_distribution_function_eq(t):\n",
        "  number_of_elements_lesseq_than_t = 0\n",
        "  for element in sample:\n",
        "    if element <= t:\n",
        "      number_of_elements_lesseq_than_t += 1\n",
        "  return number_of_elements_lesseq_than_t / n"
      ],
      "metadata": {
        "id": "zPAFyTQf8MEY"
      },
      "execution_count": null,
      "outputs": []
    },
    {
      "cell_type": "code",
      "source": [
        "y = []\n",
        "x = []\n",
        "for i in range (10000):\n",
        "  x.append(i / 10000)\n",
        "  y.append(empirical_distribution_function(x[i]))"
      ],
      "metadata": {
        "id": "DLJLzYofv7It"
      },
      "execution_count": null,
      "outputs": []
    },
    {
      "cell_type": "code",
      "source": [
        "def draw_empirical_distribution_function():\n",
        "  plt.rcParams[\"figure.figsize\"] = [25.50, 6.50]\n",
        "  plt.plot(x, y)\n",
        "  plt.tick_params(axis='x', which='major', labelsize=13)\n",
        "  plt.tick_params(axis='y', which='major', labelsize=13)\n",
        "  plt.show()"
      ],
      "metadata": {
        "id": "GcZlHacNvzYu"
      },
      "execution_count": null,
      "outputs": []
    },
    {
      "cell_type": "code",
      "source": [
        "def draw_histogram():\n",
        "  plt.hist(sample, bins = int(m.log2(n) + 1), range = (0, 1), color = 'green', edgecolor = 'white', density = 1)\n",
        "  plt.show()"
      ],
      "metadata": {
        "id": "T-I0TqpqwIg1"
      },
      "execution_count": null,
      "outputs": []
    },
    {
      "cell_type": "code",
      "source": [
        "def calc_d_n():\n",
        "  d_n = 0\n",
        "  sorted_sample = sorted(sample)\n",
        "  d_point = 0\n",
        "  for i in x:\n",
        "    if(abs(empirical_distribution_function(i) - distribution_function(i)) > d_n):\n",
        "      d_n = abs(empirical_distribution_function(i) - distribution_function(i))\n",
        "      d_point = i\n",
        "  return (d_n, d_point)"
      ],
      "metadata": {
        "id": "g3ibTVVp42rH"
      },
      "execution_count": null,
      "outputs": []
    },
    {
      "cell_type": "code",
      "source": [
        "def test_the_hypotethis_kolmogorov(epsilon):\n",
        "  q = kstwobign.ppf(1 - epsilon)\n",
        "  if(m.sqrt(n) * calc_d_n()[0] < q):\n",
        "    print(\"Гипотеза принимается\")\n",
        "  else:\n",
        "    print(\"Гипотеза отклоняется\")"
      ],
      "metadata": {
        "id": "XzyHYS5i8kHi"
      },
      "execution_count": null,
      "outputs": []
    },
    {
      "cell_type": "code",
      "source": [
        "def test_the_hypotethis_pirson(epsilon, k, a, b):\n",
        "  partition = []\n",
        "  p = []\n",
        "  q = chi2.ppf(1 - epsilon, k - 1)\n",
        "  v = []\n",
        "  psi = 0\n",
        "  for i in range(k + 1):\n",
        "    partition.append(((b - a) * i)/k)\n",
        "    if(i < k):\n",
        "      p.append((b - a) / k)\n",
        "      v.append(0)\n",
        "  for i in range(k):\n",
        "    for element in sample:\n",
        "      if(element > partition[i] and element < partition[i + 1]):\n",
        "        v[i] += 1\n",
        "  for i in range(k):\n",
        "    psi += ((v[i] - n * p[i]) ** 2) / (n * p[i])\n",
        "  print(q)\n",
        "  print(psi)\n",
        "  if(psi < q):\n",
        "    print(\"Гипотеза принимается\")\n",
        "  else:\n",
        "    print(\"Гипотеза отклоняется\")"
      ],
      "metadata": {
        "id": "iaNd8eeEHlvS"
      },
      "execution_count": null,
      "outputs": []
    },
    {
      "cell_type": "markdown",
      "source": [
        "# **График эмпирической функции распределения**"
      ],
      "metadata": {
        "id": "B7a1ddvZvb0J"
      }
    },
    {
      "cell_type": "code",
      "source": [
        "draw_empirical_distribution_function()"
      ],
      "metadata": {
        "colab": {
          "base_uri": "https://localhost:8080/",
          "height": 391
        },
        "id": "RpfL4tatr8kx",
        "outputId": "a3ca18f8-d1ea-4e19-de12-fcd69fa28c5d"
      },
      "execution_count": null,
      "outputs": [
        {
          "output_type": "display_data",
          "data": {
            "text/plain": [
              "<Figure size 1836x468 with 1 Axes>"
            ],
            "image/png": "[encoded data removed]"
          },
          "metadata": {
            "needs_background": "light"
          }
        }
      ]
    },
    {
      "cell_type": "markdown",
      "source": [
        "# **Гистограмма**"
      ],
      "metadata": {
        "id": "cDEp0wfDwDCc"
      }
    },
    {
      "cell_type": "code",
      "source": [
        "draw_histogram()"
      ],
      "metadata": {
        "colab": {
          "base_uri": "https://localhost:8080/",
          "height": 389
        },
        "id": "yMnJWjdUwHiJ",
        "outputId": "1f469dba-19f6-47e3-e7f0-27461607f852"
      },
      "execution_count": null,
      "outputs": [
        {
          "output_type": "display_data",
          "data": {
            "text/plain": [
              "<Figure size 1836x468 with 1 Axes>"
            ],
            "image/png": "[encoded data removed]"
          },
          "metadata": {
            "needs_background": "light"
          }
        }
      ]
    },
    {
      "cell_type": "markdown",
      "source": [
        "#  **Проверка основной гипотезы о равномерности распределения c помощью критерия Колмогорова**"
      ],
      "metadata": {
        "id": "YQDXoi7l0fgX"
      }
    },
    {
      "cell_type": "markdown",
      "source": [
        "$D_{n} = \\sup_{y}|F_{n}^{*}(y) - F(y)|$\n",
        "\n",
        "Тогда по теореме Колмогорова для любого $y > 0$ при $n → ∞$\n",
        "\n",
        "$P(\\sqrt{n}D_{n}<y)→𝒦(y)$\n",
        "\n",
        "В нашем случае имеем: $H_{1}: F = U$ против $H_{2}: F \\neq U$\n",
        "\n"
      ],
      "metadata": {
        "id": "p4QisOKK0z1g"
      }
    },
    {
      "cell_type": "code",
      "source": [
        "print(\"Dn = %0.3f\" % calc_d_n()[0])\n",
        "print(\"sqrt(n) * Dn = %0.3f\" % (m.sqrt(n) * calc_d_n()[0]))\n",
        "print(\"This value is reached at point = \", calc_d_n()[1])\n",
        "print(empirical_distribution_function(0.311))"
      ],
      "metadata": {
        "colab": {
          "base_uri": "https://localhost:8080/"
        },
        "id": "DHr4YYkI7pUU",
        "outputId": "d7ad7109-4219-4a8b-b317-d9fc404624da"
      },
      "execution_count": null,
      "outputs": [
        {
          "output_type": "stream",
          "name": "stdout",
          "text": [
            "Dn = 0.122\n",
            "sqrt(n) * Dn = 0.669\n",
            "This value is reached at point =  0.3111\n",
            "0.4\n"
          ]
        }
      ]
    },
    {
      "cell_type": "markdown",
      "source": [
        "Если верна $H_{1}$, то $P_{1}(\\sqrt{n}D_{n}<q) \\approx K(q) = 1−ε$. Поэтому мы будем отвергать гипотезу $H_{1}$, если окажется, что $\\sqrt{n}D_{n}>q$, т. е. если расхождение между эмпирической и гипотетической функциями распределения достаточно велико"
      ],
      "metadata": {
        "id": "YlvF6BlD8fuz"
      }
    },
    {
      "cell_type": "code",
      "source": [
        "test_the_hypotethis_kolmogorov(0.06)"
      ],
      "metadata": {
        "colab": {
          "base_uri": "https://localhost:8080/"
        },
        "id": "G47eYFXK8iw_",
        "outputId": "85c8791f-c38e-4ff7-90df-a09da4d9e9ee"
      },
      "execution_count": null,
      "outputs": [
        {
          "output_type": "stream",
          "name": "stdout",
          "text": [
            "Гипотеза верна: наша выборка действительно имеет равномерное распределение\n"
          ]
        }
      ]
    },
    {
      "cell_type": "markdown",
      "source": [
        "#  **Проверка основной гипотезы о равномерности распределения c помощью критерия хи-квадрат**"
      ],
      "metadata": {
        "id": "I56J-Pqn-PqZ"
      }
    },
    {
      "cell_type": "markdown",
      "source": [
        "В предположении, что $X \\subseteq F_{1}$, разобьем область возможных значений $X_{1}$ на некоторое количество непересекающихся промежутков:\n",
        "$P_{1}(X_{1} ∈ ∆_{1} ∪ . . . ∪ ∆_{k}) = 1$, где $∆_{i}$ имеет вид $∆_{i} = \n",
        "[a_{i}, b_{i}), i = 1, ... , k$\n",
        "\n",
        "$ν_{i}$ — число наблюдений, попавших в $∆_{i}$\n",
        "\n",
        "$p_{i} = P_{1}(X_{1} ∈ ∆_{i}) = F_{1}(b_{i}) − F_{1}(a_{i})$\n",
        "\n",
        "По ЗБЧ имеем:\n",
        "$\\frac{ν_{i}}{n} \\stackrel{p}{→} p_{i} , n → ∞$\n",
        ",если верна H_{1}\n",
        "\n",
        "В качестве меры близости этих совокупностей предлагается использовать величину:\n",
        "$𝚿_{n} = ∑_{i = 1}^{k}\\frac{(v_{i}-np_{i})^2}{np_{i}}$\n",
        "\n",
        "Тогда по теореме Пирсона, если $𝚿_{n} < q$, где q находится из равенства:\n",
        "$χ_{n-1}^2(q) = 1 - ɛ$ то мы принимает гипотезу $H_{1}$"
      ],
      "metadata": {
        "id": "VvHYdBQP-Wiz"
      }
    },
    {
      "cell_type": "code",
      "source": [
        "test_the_hypotethis_pirson(0.06, 5, 0, 1)"
      ],
      "metadata": {
        "colab": {
          "base_uri": "https://localhost:8080/"
        },
        "id": "2r7bb1CPIte1",
        "outputId": "ee04af38-542e-4ff4-f08f-4e541869c9dd"
      },
      "execution_count": null,
      "outputs": [
        {
          "output_type": "stream",
          "name": "stdout",
          "text": [
            "9.044368368716608\n",
            "1.3333333333333333\n",
            "Гипотеза верна: наша выборка действительно имеет равномерное распределение\n"
          ]
        }
      ]
    }
  ]
}