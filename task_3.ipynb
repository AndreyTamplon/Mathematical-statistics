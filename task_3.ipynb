{
  "nbformat": 4,
  "nbformat_minor": 0,
  "metadata": {
    "colab": {
      "name": "task_3.ipynb",
      "provenance": [],
      "collapsed_sections": [],
      "authorship_tag": "ABX9TyPpgwZERKzUR+KDX79kVD15",
      "include_colab_link": true
    },
    "kernelspec": {
      "name": "python3",
      "display_name": "Python 3"
    },
    "language_info": {
      "name": "python"
    }
  },
  "cells": [
    {
      "cell_type": "markdown",
      "metadata": {
        "id": "view-in-github",
        "colab_type": "text"
      },
      "source": [
        "<a href=\"https://colab.research.google.com/github/AndreyTamplon/Mathematical-statistics/blob/main/task_3.ipynb\" target=\"_parent\"><img src=\"https://colab.research.google.com/assets/colab-badge.svg\" alt=\"Open In Colab\"/></a>"
      ]
    },
    {
      "cell_type": "code",
      "execution_count": null,
      "metadata": {
        "id": "MttaRwmKOBrv",
        "colab": {
          "base_uri": "https://localhost:8080/"
        },
        "outputId": "a504f573-edcf-405a-cd40-c4925b6608ad"
      },
      "outputs": [
        {
          "output_type": "stream",
          "name": "stdout",
          "text": [
            "mean1 =  -1.1794\n",
            "mean2 =  -1.0300333333333331\n"
          ]
        }
      ],
      "source": [
        "import numpy as np\n",
        "import math\n",
        "import matplotlib.pyplot as plt\n",
        "from scipy.stats import kstwobign\n",
        "from scipy.stats.distributions import chi2, f, t\n",
        "\n",
        "\n",
        "sample1 = [-0.825, -0.980, -0.938, -1.039, -2.347, -1.579, -1.611, -0.246, -0.361, -0.844,\n",
        "          0.137, -2.105, -1.749, -2.035, 0.321, -0.454 , -1.803, -1.529, -1.421, -2.180]\n",
        "sample2 = [-0.885, -1.500, -1.465, -1.846, -0.444, -0.137, -1.987, -1.989, -2.654, -1.424,\n",
        "          -1.537, -0.797, -0.993, -1.376, 0.248, -0.082, -0.171, -1.081, 0.469, -0.207,\n",
        "          -1.999, -0.901, 0.575, -1.895, 0.042, -1.197, -1.244, -1.162, -2.016, -1.246]\n",
        "sample1_mean = np.array(sample1).mean()\n",
        "sample2_mean = np.array(sample2).mean()\n",
        "print(\"mean1 = \", sample1_mean)\n",
        "print(\"mean2 = \", sample2_mean)\n",
        "n = len(sample1)\n",
        "m = len(sample2)\n",
        "S_X = ((sample1 - sample1_mean) ** 2).mean()\n",
        "S_Y = ((sample2 - sample2_mean) ** 2).mean()\n",
        "      "
      ]
    },
    {
      "cell_type": "code",
      "source": [
        "def check_for_matching_variances(epsilon):\n",
        "  q1 = f.ppf(epsilon / 2, n - 1, m - 1)\n",
        "  q2 = f.ppf(1 - epsilon / 2, n - 1, m - 1)\n",
        "  eta = (n * (m - 1) * S_X) / (m * (n - 1) * S_Y)\n",
        "  print(eta)\n",
        "  if (q1 < eta < q2):\n",
        "    print(\"Гипотеза верна: дисперсии совпадают\")\n",
        "  else:\n",
        "    print(\"Гипотеза не верна: дисперсии не совпадают\")"
      ],
      "metadata": {
        "id": "YFvJRADFTLnP"
      },
      "execution_count": null,
      "outputs": []
    },
    {
      "cell_type": "code",
      "source": [
        "def check_the_coincidence_of_averages(epsilon):\n",
        "  q = t.ppf(1 - epsilon / 2, n + m - 2)  \n",
        "  psi = (sample1_mean - sample2_mean) / ((math.sqrt(1 / n + 1/m)) * (math.sqrt((n * S_X + m * S_Y) / (n + m - 2))))\n",
        "  print(psi)\n",
        "  if (-q < psi < q):\n",
        "    print(\"Гипотеза верна: средние совпадают\")\n",
        "  else:\n",
        "    print(\"Гипотеза не верна: средние не совпадают\")"
      ],
      "metadata": {
        "id": "BaxmyffpXZoa"
      },
      "execution_count": null,
      "outputs": []
    },
    {
      "cell_type": "markdown",
      "source": [
        "#  **Проверка гипотезы о совпадении дисперсий**"
      ],
      "metadata": {
        "id": "J4AiNu5mPRlr"
      }
    },
    {
      "cell_type": "markdown",
      "source": [
        "Здесь мы проверяем основную гипотезу $H_{1} : σ_{1}^{2} = σ_{2}^{2}$ против $H_{2} : σ_{1}^{2} \\neq σ_{2}^{2}$\n",
        "\n",
        "$S_{X}^{2}=\\sum_{i=1}^{n}(X_{i}-\\bar{X})^2$\n",
        "\n",
        "$S_{Y}^{2}=\\sum_{i=1}^{n}(Y_{i}-\\bar{Y})^2$\n",
        "\n",
        "По теореме о свойствах выборок из нормального распределения\n",
        "\n",
        "$\\frac{nS_{X}^{2}}{σ_{1}^2} ∼ \\chi_{n - 1}^2(q_{1}) $\n",
        "\n",
        "$\\frac{nS_{Y}^{2}}{σ_{1}^2} ∼ \\chi_{m - 1}^2(q_{2}) $\n",
        "\n",
        "Из них можно построить случайную величину, имеющую распределение\n",
        "Фишера, откуда следует, что если верна гипотеза $H_{1}$, то\n",
        "\n",
        "$η = \\frac{n(m-1)S_{X}^{2}}{m(n-1)S_{Y}^{2}} ∼ F_{n - 1, m - 1}$\n",
        "\n",
        "если $η \\notin (q_{1}, q_{2})$, то $H_{1}$ не верна"
      ],
      "metadata": {
        "id": "Zwn0hgrNPg8P"
      }
    },
    {
      "cell_type": "code",
      "source": [
        "check_for_matching_variances(0.06)"
      ],
      "metadata": {
        "colab": {
          "base_uri": "https://localhost:8080/"
        },
        "id": "6D9xL3JMTzeP",
        "outputId": "53a7f72d-a656-4431-ce84-736fbfadde18"
      },
      "execution_count": null,
      "outputs": [
        {
          "output_type": "stream",
          "name": "stdout",
          "text": [
            "0.8837753532701503\n",
            "Гипотеза верна: дисперсии совпадают\n"
          ]
        }
      ]
    },
    {
      "cell_type": "markdown",
      "source": [
        "#  **Проверка гипотезы о совпадении средних**"
      ],
      "metadata": {
        "id": "9wV_w1YEUbjO"
      }
    },
    {
      "cell_type": "markdown",
      "source": [
        "$\\bar{X} \\sim Ф_{α_{1}, σ^2/n}$ $\\bar{Y} \\sim Ф_{α_{2}, σ^2/m}$\n",
        "\n",
        "имеем $\\bar{X} - \\bar{Y} \\sim Ф_{α_{1} - α_{2}, σ^2(\\frac{1}{n}+\\frac{1}{m})}$\n",
        "\n",
        "и после стандартизации $\\frac{\\bar{X} - \\bar{Y} - (α_{1} - α_{2})}\n",
        "  {\\sqrt{σ^2(\\frac{1}{n}+\\frac{1}{m})}} \\sim Ф_{0,1}$\n",
        "\n",
        "Далее, по свойству распределения хи-квадрат\n",
        "$\\frac{nS_{X}^{2}}{σ^2} + \\frac{mS_{Y}^{2}}{σ^2} \\sim \\chi_{n + m - 2}^2$\n",
        "\n",
        "эта случайная величина не зависит от $\\bar{X} − \\bar{Y}$ . Таким образом\n",
        "\n",
        "$\\frac{\\bar{X} - \\bar{Y} - (α_{1} - α_{2})}\n",
        "{σ\\sqrt{(\\frac{1}{n}+\\frac{1}{m})}}:\\sqrt{\\frac{nS_{X}^{2} + mS_{Y}^{2}}{(n + m -2)σ^2}} \\sim T_{n+m-2}$\n",
        "\n",
        "Если верна гипотеза $H_{1}$, то $α_{1} − α_{2} = 0$ и \n",
        "\n",
        "$Ψ = \\frac{\\bar{X}-\\bar{Y}}{\\sqrt{\\frac{1}{n} + \\frac{1}{m}} \\sqrt{\\frac{nS_{X}^{2} + mS_{Y}^{2}}{n+m-2}}} \\sim T_{n + m - 2}$\n",
        "\n",
        "Значит, если $-q<Ψ<q$ - Гипотеза верна"
      ],
      "metadata": {
        "id": "eDaKlfZ7UeVX"
      }
    },
    {
      "cell_type": "code",
      "source": [
        "check_the_coincidence_of_averages(0.06)"
      ],
      "metadata": {
        "colab": {
          "base_uri": "https://localhost:8080/"
        },
        "id": "0fe-CLyRX4Tu",
        "outputId": "4bcde14b-7495-4758-e2fb-7ba1d42b7d30"
      },
      "execution_count": null,
      "outputs": [
        {
          "output_type": "stream",
          "name": "stdout",
          "text": [
            "-0.6373591911496768\n",
            "Гипотеза верна: средние совпадают\n"
          ]
        }
      ]
    }
  ]
}